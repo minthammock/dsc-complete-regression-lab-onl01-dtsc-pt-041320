{
 "cells": [
  {
   "cell_type": "markdown",
   "metadata": {},
   "source": [
    "# Complete Regression - Lab\n",
    "\n",
    "## Introduction\n",
    "By now, you have created all the necessary functions to calculate the slope, intercept, best-fit line, prediction, and visualizations. In this lab you will put them all together to run a regression experiment and calculate the model loss. \n",
    "\n",
    "## Objectives\n",
    "\n",
    "You will be able to:\n",
    "\n",
    "* Perform a linear regression using self-constructed functions\n",
    "* Calculate the coefficient of determination using self-constructed functions\n",
    "* Use the coefficient of determination to determine model performance\n",
    "\n",
    "## The formulas\n",
    "\n",
    "**Slope**: \n",
    "$\\hat m = \\dfrac{\\overline{x}*\\overline{y}-\\overline{xy}}{(\\overline{x})^2-\\overline{x^2}}$\n",
    "\n",
    "\n",
    "**Intercept**: $ \\hat c = \\bar{y} - \\hat m\\bar{x}$\n",
    "\n",
    "**Prediction**: $\\hat{y} = \\hat mx + \\hat c$\n",
    "\n",
    "**R-Squared**: \n",
    "$ R^2 = 1- \\dfrac{SS_{RES}}{SS_{TOT}} = 1 - \\dfrac{\\sum_i(y_i - \\hat y_i)^2}{\\sum_i(y_i - \\overline y_i)^2} $\n",
    "\n",
    "\n",
    "Use the Python functions created earlier to implement these formulas to run a regression analysis using x and y as input variables. "
   ]
  },
  {
   "cell_type": "code",
   "execution_count": 4,
   "metadata": {},
   "outputs": [],
   "source": [
    "import numpy as np\n",
    "import pandas as pd\n",
    "import matplotlib.pyplot as plt"
   ]
  },
  {
   "cell_type": "code",
   "execution_count": 15,
   "metadata": {},
   "outputs": [],
   "source": [
    "# Combine all the functions created so far to run a complete regression experiment. \n",
    "# Produce an output similar to the one shown below. \n",
    "\n",
    "X = np.array([1, 2, 3, 4, 5, 6, 7, 8, 9, 10], dtype=np.float64)\n",
    "Y = np.array([7, 7, 8, 9, 9, 10, 10, 11, 11, 12], dtype=np.float64)\n",
    "\n",
    "def linear_reg(X,Y):\n",
    "    '''This function takes in two n-vectors and produces a linear regression model with summary stats\n",
    "    '''\n",
    "    # make iterables into np.arrys just in case they weren't\n",
    "    X = np.array(X, dtype=np.float64)\n",
    "    Y = np.array(Y, dtype=np.float64)\n",
    "    #calc mean for X and Y\n",
    "    X_bar = np.mean(X)\n",
    "    Y_bar = np.mean(Y)\n",
    "    #calc standard deviation for X and Y\n",
    "    std_X = np.std(X)\n",
    "    std_Y = np.std(Y)\n",
    "    #calc correlation for X and Y\n",
    "    corr_X_Y = np.corrcoef(X,Y)[0][1]\n",
    "    #get regression line slope with least-squares method\n",
    "    m_hat = corr_X_Y*std_Y/std_X\n",
    "    #calc regression intercept with regression slope\n",
    "    c_hat = Y_bar - m_hat*X_bar\n",
    "    #calc predicted values for model\n",
    "    Y_hat = m_hat*X + c_hat\n",
    "    # calc R_squared\n",
    "    R_squared = 1 - (sum((Y - Y_hat)**2)/sum((Y - Y_bar)**2))\n",
    "    print(\n",
    "        f'''\n",
    "        Basic Regression Diagnostics\n",
    "        ----------------------------\n",
    "        Slope: {round(m_hat,2)}\n",
    "        Y-Intercept: {round(c_hat,2)}\n",
    "        R_Squared: {round(R_squared,2)}\n",
    "        ----------------------------\n",
    "        Model: Y = {round(m_hat,2)} * X + {round(c_hat,2)}\n",
    "    ''')\n",
    "    plt.figure()\n",
    "    plt.scatter(X,Y)\n",
    "    plt.plot(X, Y_hat, color = 'red')\n",
    "    print('''If you would to see the predictions for various values please input comma seperated values now ''')\n",
    "    userInput = input()\n",
    "    X_new = []\n",
    "    for x in userInput.split(','):\n",
    "        X_new.append(float(x))\n",
    "    X_new = np.array(X_new)\n",
    "    if len(X_new) == 0:\n",
    "        pass\n",
    "    else:\n",
    "        print(X_new)\n",
    "        Y_new = m_hat*X_new + c_hat\n",
    "        plt.scatter(X_new, Y_new, c = 'red')\n",
    "    plt.title('Linear Regression Model')\n",
    "    plt.xlabel('Dependant Variable')\n",
    "    plt.ylabel('Independant Variable')\n",
    "    plt.show()"
   ]
  },
  {
   "cell_type": "code",
   "execution_count": 16,
   "metadata": {
    "scrolled": false
   },
   "outputs": [
    {
     "name": "stdout",
     "output_type": "stream",
     "text": [
      "\n",
      "        Basic Regression Diagnostics\n",
      "        ----------------------------\n",
      "        Slope: 0.56\n",
      "        Y-Intercept: 6.33\n",
      "        R_Squared: 0.97\n",
      "        ----------------------------\n",
      "        Model: Y = 0.56 * X + 6.33\n",
      "    \n",
      "If you would to see the predictions for various values please input comma seperated values now \n",
      "1,2,3,4,5,6,7,8,9\n",
      "[1. 2. 3. 4. 5. 6. 7. 8. 9.]\n"
     ]
    },
    {
     "data": {
      "image/png": "[encoded data removed]",
      "text/plain": [
       "<Figure size 432x288 with 1 Axes>"
      ]
     },
     "metadata": {
      "needs_background": "light"
     },
     "output_type": "display_data"
    }
   ],
   "source": [
    "# Basic Regression Diagnostics\n",
    "# ----------------------------\n",
    "# Slope: 0.56\n",
    "# Y-Intercept: 6.33\n",
    "# R-Squared: 0.97\n",
    "# ----------------------------\n",
    "# Model: Y = 0.56 * X + 6.33\n",
    "linear_reg(X,Y)\n"
   ]
  },
  {
   "cell_type": "markdown",
   "metadata": {},
   "source": [
    "## Make Predictions\n",
    "\n",
    "Predict and plot the value of y using regression line above for a new value of $x = 4.5$."
   ]
  },
  {
   "cell_type": "code",
   "execution_count": null,
   "metadata": {},
   "outputs": [],
   "source": [
    "# Make prediction for x = 4.5 and visualize on the scatter plot\n",
    "plt.figure()\n",
    "linear_reg(X,Y)\n",
    "plt.scatter([4.5], [.56*4.5 + 6.33])\n",
    "plt.show()"
   ]
  },
  {
   "cell_type": "markdown",
   "metadata": {},
   "source": [
    "## Level up - Optional \n",
    "Load the \"`heightweight.csv`\" dataset. Use the height as an independent and weight as a dependent variable and draw a regression line to data using your code above. Calculate your R-Squared value for the model and try to predict new values of y. \n",
    "\n",
    "## Summary\n",
    "\n",
    "In this lab, we ran a complete simple regression analysis experiment using functions created so far. Next up, you'll learn how you can use Python's built-in modules to perform similar analyses with a much higher level of sophistication. "
   ]
  }
 ],
 "metadata": {
  "kernelspec": {
   "display_name": "Python 3",
   "language": "python",
   "name": "python3"
  },
  "language_info": {
   "codemirror_mode": {
    "name": "ipython",
    "version": 3
   },
   "file_extension": ".py",
   "mimetype": "text/x-python",
   "name": "python",
   "nbconvert_exporter": "python",
   "pygments_lexer": "ipython3",
   "version": "3.7.6"
  },
  "toc": {
   "base_numbering": 1,
   "nav_menu": {},
   "number_sections": true,
   "sideBar": true,
   "skip_h1_title": false,
   "title_cell": "Table of Contents",
   "title_sidebar": "Contents",
   "toc_cell": false,
   "toc_position": {},
   "toc_section_display": true,
   "toc_window_display": false
  },
  "varInspector": {
   "cols": {
    "lenName": 16,
    "lenType": 16,
    "lenVar": 40
   },
   "kernels_config": {
    "python": {
     "delete_cmd_postfix": "",
     "delete_cmd_prefix": "del ",
     "library": "var_list.py",
     "varRefreshCmd": "print(var_dic_list())"
    },
    "r": {
     "delete_cmd_postfix": ") ",
     "delete_cmd_prefix": "rm(",
     "library": "var_list.r",
     "varRefreshCmd": "cat(var_dic_list()) "
    }
   },
   "types_to_exclude": [
    "module",
    "function",
    "builtin_function_or_method",
    "instance",
    "_Feature"
   ],
   "window_display": false
  }
 },
 "nbformat": 4,
 "nbformat_minor": 2
}
